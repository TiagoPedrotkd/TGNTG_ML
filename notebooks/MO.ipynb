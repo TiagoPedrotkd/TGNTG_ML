{
 "cells": [
  {
   "cell_type": "markdown",
   "metadata": {},
   "source": [
    "<h1 style=\"text-align: center; color: #4A90E2; font-family: 'Arial', sans-serif; font-size: 36px; text-shadow: 2px 2px #D1D1D1;\">\n",
    "    Model Optimization (MO) for Workers' Compensation Claims\n",
    "</h1>\n",
    "<hr style=\"border: 2px solid #4A90E2;\">\n",
    "\n",
    "<h2 style=\"text-align: center; color: #4A90E2; font-family: 'Arial', sans-serif; font-size: 36px; text-shadow: 2px 2px #D1D1D1;\">Required Imports</h2>\n",
    "\n",
    "<hr style=\"border: 2px solid #4A90E2;\">\n",
    "\n",
    "<h3 style=\"color: #4A90E2; font-family: 'Arial', sans-serif; font-size: 24px; text-shadow: 2px 2px #D1D1D1;\">Package Descriptions</h3>\n",
    "<ul style=\"font-family: 'Arial', sans-serif;\">\n",
    "    <li><strong>pandas</strong>: For data manipulation and analysis, enabling easy reading and handling of dataframes.</li>\n",
    "    <li><strong>numpy</strong>: For efficient numerical operations and array manipulation.</li>\n",
    "    <li><strong>matplotlib.pyplot</strong>: To create data visualizations and plots.</li>\n",
    "    <li><strong>seaborn</strong>: For generating attractive and informative statistical visualizations.</li>\n",
    "    <li><strong>missingno</strong>: For visualizing and analyzing missing data, helping to better understand data quality.</li>\n",
    "</ul>\n"
   ]
  },
  {
   "cell_type": "code",
   "execution_count": null,
   "metadata": {},
   "outputs": [],
   "source": [
    "import pandas as pd # type: ignore\n",
    "import numpy as np # type: ignore\n",
    "import matplotlib.pyplot as plt # type: ignore\n",
    "import seaborn as sns # type: ignore\n",
    "import missingno as msng # type: ignore\n",
    "import sys # type: ignore\n",
    "import os # type: ignore\n",
    "\n",
    "from scipy import stats # type: ignore\n",
    "from sklearn.model_selection import train_test_split # type: ignore\n",
    "from imblearn.over_sampling import SMOTE # type: ignore\n",
    "\n",
    "\n",
    "sys.path.append(os.path.abspath(\"../utils\"))\n",
    "from meta_model_train import meta_model_rf, meta_model, meta_model_xgbc, meta_model_et\n",
    "from neural_network import neural_network\n",
    "from plots import plot_training_history, plot_confusion_matrix\n",
    "from predicitons_csv import save_predictions_to_csv\n",
    "from predictions_fun import load_predictions\n",
    "\n",
    "import warnings\n",
    "warnings.filterwarnings(\"ignore\")\n",
    "\n",
    "%load_ext autoreload\n",
    "%autoreload 2"
   ]
  },
  {
   "cell_type": "markdown",
   "metadata": {},
   "source": [
    "<h2 style=\"text-align: center; color: #4A90E2; font-family: 'Arial', sans-serif; font-size: 36px; text-shadow: 1px 1px #D1D1D1;\">\n",
    "    Data Loading\n",
    "</h2>\n",
    "<hr style=\"border: 1px solid #4A90E2;\">\n",
    "\n",
    "<p style=\"font-size: 18px; line-height: 1.6; font-family: 'Arial', sans-serif;\">\n",
    "    This section handles loading the dataset into the environment for further processing. Using <strong>pandas</strong>, we load the data into a structured dataframe, allowing for easy manipulation, exploration, and analysis throughout the project.\n",
    "</p>\n"
   ]
  },
  {
   "cell_type": "code",
   "execution_count": null,
   "metadata": {},
   "outputs": [],
   "source": [
    "path = \"../data/\"\n",
    "\n",
    "data_train_FS = pd.read_csv(path + \"data_train_post_FS.csv\")\n",
    "data_test_FS = pd.read_csv(path + \"data_test_post_FS.csv\")\n",
    "\n",
    "combined_data = pd.concat([data_train_FS, data_test_FS], keys=['train', 'test'])"
   ]
  },
  {
   "cell_type": "markdown",
   "metadata": {},
   "source": [
    "<h2 style=\"text-align: center; color: #4A90E2; font-family: 'Arial', sans-serif; font-size: 36px; text-shadow: 1px 1px #D1D1D1;\">\n",
    "    Model Selection\n",
    "</h2>\n",
    "<hr style=\"border: 1px solid #4A90E2;\">\n",
    "\n",
    "<p style=\"font-size: 18px; line-height: 1.6; font-family: 'Arial', sans-serif;\">\n",
    "    This section focuses on selecting the best-performing models for predicting workers' compensation claims outcomes. Various machine learning algorithms are evaluated based on their accuracy, interpretability, and suitability for the dataset, ensuring an optimal balance between predictive performance and computational efficiency.\n",
    "</p>\n"
   ]
  },
  {
   "cell_type": "code",
   "execution_count": null,
   "metadata": {},
   "outputs": [],
   "source": [
    "x_FS = data_train_FS.drop(['Claim Identifier', 'Claim Injury Type'], axis=1)\n",
    "y_FS = data_train_FS['Claim Injury Type']\n",
    "\n",
    "X_train_FS, X_val_FS, y_train_FS, y_val_FS = train_test_split(x_FS, y_FS, test_size=0.25)"
   ]
  },
  {
   "cell_type": "code",
   "execution_count": null,
   "metadata": {},
   "outputs": [],
   "source": [
    "smote = SMOTE(random_state=42)\n",
    "X_train_resampled, y_train_resampled = smote.fit_resample(X_train_FS, y_train_FS)"
   ]
  },
  {
   "cell_type": "code",
   "execution_count": null,
   "metadata": {},
   "outputs": [],
   "source": [
    "def meta_model_run(model, rapid=True):\n",
    "    if rapid:\n",
    "        if model == \"CatBoost\":\n",
    "            oof_predictions, test_predictions = load_predictions(\"../predictions/oof_predictions.npy\"), load_predictions(\"../predictions/test_predictions.npy\")\n",
    "        elif model == \"RandomForest\":\n",
    "            oof_predictions, test_predictions = load_predictions(\"../predictions/oof_predictions_rf.npy\"), load_predictions(\"../predictions/test_predictions_rf.npy\")\n",
    "        elif model == \"XGBoost\":\n",
    "            oof_predictions, test_predictions = load_predictions(\"../predictions/oof_predictions_xgbc.npy\"), load_predictions(\"../predictions/test_predictions_xgbc.npy\")\n",
    "        elif model == \"ExtraTree\":\n",
    "            oof_predictions, test_predictions = load_predictions(\"../predictions/oof_predictions_et.npy\"), load_predictions(\"../predictions/test_predictions_et.npy\")\n",
    "        else:\n",
    "            oof_predictions, test_predictions = \"\", \"\"\n",
    "\n",
    "        return oof_predictions, test_predictions\n",
    "    else:\n",
    "        if model == \"CatBoost\":\n",
    "            models, f1_scores, oof_predictions, test_predictions = meta_model(X_train_resampled, y_train_resampled, data_test_FS.drop(columns=['Claim Identifier', 'Claim Injury Type']), 4)\n",
    "        elif model == \"RandomForest\":\n",
    "            models, f1_scores, oof_predictions, test_predictions = meta_model_rf(X_train_resampled, y_train_resampled, data_test_FS.drop(columns=['Claim Identifier', 'Claim Injury Type']), 4)\n",
    "        elif model == \"XGBoost\":\n",
    "            models, f1_scores, oof_predictions, test_predictions = meta_model_xgbc(X_train_resampled, y_train_resampled, data_test_FS.drop(columns=['Claim Identifier', 'Claim Injury Type']), 4)\n",
    "        elif model == \"ExtraTree\":\n",
    "            models, f1_scores, oof_predictions, test_predictions = meta_model_et(X_train_resampled, y_train_resampled, data_test_FS.drop(columns=['Claim Identifier', 'Claim Injury Type']), 4)\n",
    "        else:\n",
    "            oof_predictions, test_predictions = \"\", \"\"\n",
    "        \n",
    "        return oof_predictions, test_predictions"
   ]
  },
  {
   "cell_type": "markdown",
   "metadata": {},
   "source": [
    "<h3 style=\"color: #4A90E2; font-family: 'Arial', sans-serif; font-size: 28px; text-shadow: 2px 2px #D1D1D1;\">CatBoost Classifier</h3>"
   ]
  },
  {
   "cell_type": "code",
   "execution_count": null,
   "metadata": {},
   "outputs": [],
   "source": [
    "oof_predictions, test_predictions = meta_model_run(\"CatBoost\", rapid=True)"
   ]
  },
  {
   "cell_type": "code",
   "execution_count": null,
   "metadata": {},
   "outputs": [],
   "source": [
    "nn_model, X_nn_train, X_nn_val, y_nn_val, y_nn_train, early_stopping, reduce_lr = neural_network(oof_predictions, y_train_resampled)\n",
    "\n",
    "history = nn_model.fit(\n",
    "    X_nn_train, y_nn_train,\n",
    "    validation_data=(X_nn_val, y_nn_val),\n",
    "    epochs=10,\n",
    "    batch_size=64,\n",
    "    callbacks=[early_stopping, reduce_lr],\n",
    "    verbose=1\n",
    ")"
   ]
  },
  {
   "cell_type": "code",
   "execution_count": null,
   "metadata": {},
   "outputs": [],
   "source": [
    "plot_training_history(history)"
   ]
  },
  {
   "cell_type": "code",
   "execution_count": null,
   "metadata": {},
   "outputs": [],
   "source": [
    "plot_confusion_matrix(model=nn_model, X_val=X_nn_val, y_val=y_nn_val,\n",
    "    class_mapping={\n",
    "        0: '2. NON-COMP',\n",
    "        1: '4. TEMPORARY',\n",
    "        2: '3. MED ONLY',\n",
    "        3: '5. PPD SCH LOSS',\n",
    "        4: '6. PPD NSL',\n",
    "        5: '1. CANCELLED',\n",
    "        6: '8. DEATH',\n",
    "        7: '7. PTD'\n",
    "    }, title=\"Matriz de Confusão - Conjunto de Validação\"\n",
    ")"
   ]
  },
  {
   "cell_type": "code",
   "execution_count": null,
   "metadata": {},
   "outputs": [],
   "source": [
    "save_predictions_to_csv(\n",
    "    model=nn_model,\n",
    "    test_data=test_predictions,\n",
    "    claim_ids=data_test_FS[\"Claim Identifier\"],\n",
    "    class_mapping={\n",
    "        0: '2. NON-COMP',\n",
    "        1: '4. TEMPORARY',\n",
    "        2: '3. MED ONLY',\n",
    "        3: '5. PPD SCH LOSS',\n",
    "        4: '6. PPD NSL',\n",
    "        5: '1. CANCELLED',\n",
    "        6: '8. DEATH',\n",
    "        7: '7. PTD'\n",
    "    },\n",
    "    output_path=\"../predictions/group_40_KFold_CatBoost_NN_predictions.csv\"\n",
    ")\n"
   ]
  },
  {
   "cell_type": "code",
   "execution_count": null,
   "metadata": {},
   "outputs": [],
   "source": [
    "predicitons_data = pd.read_csv('../predictions/group_40_KFold_CatBoost_NN_predictions.csv')\n",
    "values = predicitons_data['Claim Injury Type'].value_counts()\n",
    "values"
   ]
  },
  {
   "cell_type": "markdown",
   "metadata": {},
   "source": [
    "<h3 style=\"color: #4A90E2; font-family: 'Arial', sans-serif; font-size: 28px; text-shadow: 2px 2px #D1D1D1;\">Random Forest Classifier</h3>"
   ]
  },
  {
   "cell_type": "code",
   "execution_count": null,
   "metadata": {},
   "outputs": [],
   "source": [
    "oof_predictions_rf, test_predictions_rf = meta_model_run(\"RandomForest\",rapid=False)"
   ]
  },
  {
   "cell_type": "code",
   "execution_count": null,
   "metadata": {},
   "outputs": [],
   "source": [
    "nn_model, X_nn_train, X_nn_val, y_nn_val, y_nn_train, early_stopping, reduce_lr = neural_network(oof_predictions_rf, y_train_resampled)\n",
    "\n",
    "history = nn_model.fit(\n",
    "    X_nn_train, y_nn_train,\n",
    "    validation_data=(X_nn_val, y_nn_val),\n",
    "    epochs=10,\n",
    "    batch_size=64,\n",
    "    callbacks=[early_stopping, reduce_lr],\n",
    "    verbose=1\n",
    ")"
   ]
  },
  {
   "cell_type": "code",
   "execution_count": null,
   "metadata": {},
   "outputs": [],
   "source": [
    "plot_training_history(history)"
   ]
  },
  {
   "cell_type": "code",
   "execution_count": null,
   "metadata": {},
   "outputs": [],
   "source": [
    "plot_confusion_matrix(model=nn_model, X_val=X_nn_val, y_val=y_nn_val,\n",
    "    class_mapping={\n",
    "        0: '2. NON-COMP',\n",
    "        1: '4. TEMPORARY',\n",
    "        2: '3. MED ONLY',\n",
    "        3: '5. PPD SCH LOSS',\n",
    "        4: '6. PPD NSL',\n",
    "        5: '1. CANCELLED',\n",
    "        6: '8. DEATH',\n",
    "        7: '7. PTD'\n",
    "    }, title=\"Matriz de Confusão - Conjunto de Validação\"\n",
    ")"
   ]
  },
  {
   "cell_type": "code",
   "execution_count": null,
   "metadata": {},
   "outputs": [],
   "source": [
    "save_predictions_to_csv(\n",
    "    model=nn_model,\n",
    "    test_data=test_predictions_rf,\n",
    "    claim_ids=data_test_FS[\"Claim Identifier\"],\n",
    "    class_mapping={\n",
    "        0: '2. NON-COMP',\n",
    "        1: '4. TEMPORARY',\n",
    "        2: '3. MED ONLY',\n",
    "        3: '5. PPD SCH LOSS',\n",
    "        4: '6. PPD NSL',\n",
    "        5: '1. CANCELLED',\n",
    "        6: '8. DEATH',\n",
    "        7: '7. PTD'\n",
    "    },\n",
    "    output_path=\"../predictions/group_40_KFold_RF_NN_predictions.csv\"\n",
    ")\n"
   ]
  },
  {
   "cell_type": "code",
   "execution_count": null,
   "metadata": {},
   "outputs": [],
   "source": [
    "predicitons_data = pd.read_csv('../predictions/group_40_KFold_RF_NN_predictions.csv')\n",
    "values = predicitons_data['Claim Injury Type'].value_counts()\n",
    "values"
   ]
  },
  {
   "cell_type": "markdown",
   "metadata": {},
   "source": [
    "<h3 style=\"color: #4A90E2; font-family: 'Arial', sans-serif; font-size: 28px; text-shadow: 2px 2px #D1D1D1;\">XGBoost Classifier</h3>"
   ]
  },
  {
   "cell_type": "code",
   "execution_count": null,
   "metadata": {},
   "outputs": [],
   "source": [
    "oof_predictions_xgbc, test_predictions_xgbc = meta_model_run(\"XGBoost\",rapid=False)"
   ]
  },
  {
   "cell_type": "code",
   "execution_count": null,
   "metadata": {},
   "outputs": [],
   "source": [
    "nn_model, X_nn_train, X_nn_val, y_nn_val, y_nn_train, early_stopping, reduce_lr = neural_network(oof_predictions_xgbc, y_train_resampled)\n",
    "\n",
    "history = nn_model.fit(\n",
    "    X_nn_train, y_nn_train,\n",
    "    validation_data=(X_nn_val, y_nn_val),\n",
    "    epochs=10,\n",
    "    batch_size=64,\n",
    "    callbacks=[early_stopping, reduce_lr],\n",
    "    verbose=1\n",
    ")"
   ]
  },
  {
   "cell_type": "code",
   "execution_count": null,
   "metadata": {},
   "outputs": [],
   "source": [
    "plot_training_history(history)"
   ]
  },
  {
   "cell_type": "code",
   "execution_count": null,
   "metadata": {},
   "outputs": [],
   "source": [
    "plot_confusion_matrix(model=nn_model, X_val=X_nn_val, y_val=y_nn_val,\n",
    "    class_mapping={\n",
    "        0: '2. NON-COMP',\n",
    "        1: '4. TEMPORARY',\n",
    "        2: '3. MED ONLY',\n",
    "        3: '5. PPD SCH LOSS',\n",
    "        4: '6. PPD NSL',\n",
    "        5: '1. CANCELLED',\n",
    "        6: '8. DEATH',\n",
    "        7: '7. PTD'\n",
    "    }, title=\"Matriz de Confusão - Conjunto de Validação\"\n",
    ")"
   ]
  },
  {
   "cell_type": "code",
   "execution_count": null,
   "metadata": {},
   "outputs": [],
   "source": [
    "save_predictions_to_csv(\n",
    "    model=nn_model,\n",
    "    test_data=test_predictions_xgbc,\n",
    "    claim_ids=data_test_FS[\"Claim Identifier\"],\n",
    "    class_mapping={\n",
    "        0: '2. NON-COMP',\n",
    "        1: '4. TEMPORARY',\n",
    "        2: '3. MED ONLY',\n",
    "        3: '5. PPD SCH LOSS',\n",
    "        4: '6. PPD NSL',\n",
    "        5: '1. CANCELLED',\n",
    "        6: '8. DEATH',\n",
    "        7: '7. PTD'\n",
    "    },\n",
    "    output_path=\"../predictions/group_40_KFold_XGBC_NN_predictions.csv\"\n",
    ")\n"
   ]
  },
  {
   "cell_type": "code",
   "execution_count": null,
   "metadata": {},
   "outputs": [],
   "source": [
    "predicitons_data = pd.read_csv('../predictions/group_40_KFold_XGBC_NN_predictions.csv')\n",
    "values = predicitons_data['Claim Injury Type'].value_counts()\n",
    "values"
   ]
  },
  {
   "cell_type": "markdown",
   "metadata": {},
   "source": [
    "<h3 style=\"color: #4A90E2; font-family: 'Arial', sans-serif; font-size: 28px; text-shadow: 2px 2px #D1D1D1;\">Extra Tree Classifier</h3>"
   ]
  },
  {
   "cell_type": "code",
   "execution_count": null,
   "metadata": {},
   "outputs": [],
   "source": [
    "oof_predictions_et, test_predictions_et = meta_model_run(\"ExtraTree\",rapid=False)"
   ]
  },
  {
   "cell_type": "code",
   "execution_count": null,
   "metadata": {},
   "outputs": [],
   "source": [
    "nn_model, X_nn_train, X_nn_val, y_nn_val, y_nn_train, early_stopping, reduce_lr = neural_network(oof_predictions_et, y_train_resampled)\n",
    "\n",
    "history = nn_model.fit(\n",
    "    X_nn_train, y_nn_train,\n",
    "    validation_data=(X_nn_val, y_nn_val),\n",
    "    epochs=10,\n",
    "    batch_size=64,\n",
    "    callbacks=[early_stopping, reduce_lr],\n",
    "    verbose=1\n",
    ")"
   ]
  },
  {
   "cell_type": "code",
   "execution_count": null,
   "metadata": {},
   "outputs": [],
   "source": [
    "plot_training_history(history)"
   ]
  },
  {
   "cell_type": "code",
   "execution_count": null,
   "metadata": {},
   "outputs": [],
   "source": [
    "plot_confusion_matrix(model=nn_model, X_val=X_nn_val, y_val=y_nn_val,\n",
    "    class_mapping={\n",
    "        0: '2. NON-COMP',\n",
    "        1: '4. TEMPORARY',\n",
    "        2: '3. MED ONLY',\n",
    "        3: '5. PPD SCH LOSS',\n",
    "        4: '6. PPD NSL',\n",
    "        5: '1. CANCELLED',\n",
    "        6: '8. DEATH',\n",
    "        7: '7. PTD'\n",
    "    }, title=\"Matriz de Confusão - Conjunto de Validação\"\n",
    ")"
   ]
  },
  {
   "cell_type": "code",
   "execution_count": null,
   "metadata": {},
   "outputs": [],
   "source": [
    "save_predictions_to_csv(\n",
    "    model=nn_model,\n",
    "    test_data=test_predictions_et,\n",
    "    claim_ids=data_test_FS[\"Claim Identifier\"],\n",
    "    class_mapping={\n",
    "        0: '2. NON-COMP',\n",
    "        1: '4. TEMPORARY',\n",
    "        2: '3. MED ONLY',\n",
    "        3: '5. PPD SCH LOSS',\n",
    "        4: '6. PPD NSL',\n",
    "        5: '1. CANCELLED',\n",
    "        6: '8. DEATH',\n",
    "        7: '7. PTD'\n",
    "    },\n",
    "    output_path=\"../predictions/group_40_KFold_ExtraTree_NN_predictions.csv\"\n",
    ")\n"
   ]
  },
  {
   "cell_type": "code",
   "execution_count": null,
   "metadata": {},
   "outputs": [],
   "source": [
    "predicitons_data = pd.read_csv('../predictions/group_40_KFold_ExtraTree_NN_predictions.csv')\n",
    "values = predicitons_data['Claim Injury Type'].value_counts()\n",
    "values"
   ]
  }
 ],
 "metadata": {
  "kernelspec": {
   "display_name": "venv",
   "language": "python",
   "name": "python3"
  },
  "language_info": {
   "codemirror_mode": {
    "name": "ipython",
    "version": 3
   },
   "file_extension": ".py",
   "mimetype": "text/x-python",
   "name": "python",
   "nbconvert_exporter": "python",
   "pygments_lexer": "ipython3",
   "version": "3.11.9"
  }
 },
 "nbformat": 4,
 "nbformat_minor": 2
}
