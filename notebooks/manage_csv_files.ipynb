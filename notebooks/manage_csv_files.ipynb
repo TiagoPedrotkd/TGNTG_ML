{
 "cells": [
  {
   "cell_type": "code",
   "execution_count": 2,
   "metadata": {},
   "outputs": [],
   "source": [
    "import os\n",
    "import sys\n",
    "\n",
    "# Caminho para os ficheiros Python\n",
    "services_path = os.path.abspath(\"../src/services\")  # Ajuste conforme necessário\n",
    "\n",
    "# Adicionar o caminho ao sys.path para importar os scripts\n",
    "if services_path not in sys.path:\n",
    "    sys.path.append(services_path)\n",
    "\n",
    "\n",
    "data_folder = os.path.abspath(\"../data\")\n",
    "\n",
    "import compactar\n",
    "import descompactar\n"
   ]
  },
  {
   "cell_type": "markdown",
   "metadata": {},
   "source": [
    "# Compactar Ficheiros"
   ]
  },
  {
   "cell_type": "code",
   "execution_count": 4,
   "metadata": {},
   "outputs": [
    {
     "name": "stdout",
     "output_type": "stream",
     "text": [
      "Ficheiros CSV da pasta 'd:\\Repositories\\TGNTG_ML\\data' foram compactados em: d:\\Repositories\\TGNTG_ML\\data\\data_compactada.zip\n"
     ]
    }
   ],
   "source": [
    "output_zip_file = os.path.join(data_folder, \"data_compactada.zip\")\n",
    "\n",
    "compactar.compress_csv(data_folder, output_zip_file)"
   ]
  },
  {
   "cell_type": "markdown",
   "metadata": {},
   "source": [
    "# Descompactar Ficheiros"
   ]
  },
  {
   "cell_type": "code",
   "execution_count": null,
   "metadata": {},
   "outputs": [
    {
     "name": "stdout",
     "output_type": "stream",
     "text": [
      "Ficheiros extraídos para a pasta: d:\\Repositories\\TGNTG_ML\\data\n"
     ]
    }
   ],
   "source": [
    "zip_file_path = os.path.join(data_folder, \"data_compactada.zip\")\n",
    "\n",
    "extraction_folder = data_folder\n",
    "\n",
    "descompactar.decompress_zip(zip_file_path, extraction_folder)\n"
   ]
  }
 ],
 "metadata": {
  "kernelspec": {
   "display_name": "venv",
   "language": "python",
   "name": "python3"
  },
  "language_info": {
   "codemirror_mode": {
    "name": "ipython",
    "version": 3
   },
   "file_extension": ".py",
   "mimetype": "text/x-python",
   "name": "python",
   "nbconvert_exporter": "python",
   "pygments_lexer": "ipython3",
   "version": "3.11.9"
  }
 },
 "nbformat": 4,
 "nbformat_minor": 2
}
