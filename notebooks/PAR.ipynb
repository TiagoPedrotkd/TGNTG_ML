{
 "cells": [
  {
   "cell_type": "markdown",
   "metadata": {},
   "source": [
    "<h1 style=\"text-align: center; color: #4A90E2; font-family: 'Arial', sans-serif; font-size: 36px; text-shadow: 2px 2px #D1D1D1;\">\n",
    "    Prediction Agreement Reached (PAR) for Workers' Compensation Claims\n",
    "</h1>\n",
    "<hr style=\"border: 2px solid #4A90E2;\">\n",
    "\n",
    "<h2 style=\"text-align: center; color: #4A90E2; font-family: 'Arial', sans-serif; font-size: 36px; text-shadow: 2px 2px #D1D1D1;\">Required Imports</h2>\n",
    "\n",
    "<hr style=\"border: 2px solid #4A90E2;\">\n",
    "\n",
    "<h3 style=\"color: #4A90E2; font-family: 'Arial', sans-serif; font-size: 24px; text-shadow: 2px 2px #D1D1D1;\">Package Descriptions</h3>\n",
    "<ul style=\"font-family: 'Arial', sans-serif;\">\n",
    "    <li><strong>pandas</strong>: For data manipulation and analysis, enabling easy reading and handling of dataframes.</li>\n",
    "    <li><strong>numpy</strong>: For efficient numerical operations and array manipulation.</li>\n",
    "    <li><strong>matplotlib.pyplot</strong>: To create data visualizations and plots.</li>\n",
    "    <li><strong>seaborn</strong>: For generating attractive and informative statistical visualizations.</li>\n",
    "    <li><strong>missingno</strong>: For visualizing and analyzing missing data, helping to better understand data quality.</li>\n",
    "</ul>\n"
   ]
  },
  {
   "cell_type": "code",
   "execution_count": 1,
   "metadata": {},
   "outputs": [],
   "source": [
    "import pandas as pd # type: ignore\n",
    "import matplotlib.pyplot as plt # type: ignore\n",
    "import sys # type: ignore\n",
    "import os # type: ignore\n",
    "\n",
    "from sklearn.model_selection import train_test_split # type: ignore\n",
    "from imblearn.over_sampling import SMOTE # type: ignore\n",
    "\n",
    "\n",
    "sys.path.append(os.path.abspath(\"../utils\"))\n",
    "from meta_model_train import meta_model_lr, meta_model_gb\n",
    "from neural_network import neural_network\n",
    "from plots import plot_training_history, plot_confusion_matrix\n",
    "from predicitons_csv import save_predictions_to_csv_ar\n",
    "from save_models import save_model\n",
    "\n",
    "import warnings\n",
    "warnings.filterwarnings(\"ignore\")\n",
    "\n",
    "%load_ext autoreload\n",
    "%autoreload 2"
   ]
  },
  {
   "cell_type": "markdown",
   "metadata": {},
   "source": [
    "<h2 style=\"text-align: center; color: #4A90E2; font-family: 'Arial', sans-serif; font-size: 36px; text-shadow: 1px 1px #D1D1D1;\">\n",
    "    Data Loading\n",
    "</h2>\n",
    "<hr style=\"border: 1px solid #4A90E2;\">\n",
    "\n",
    "<p style=\"font-size: 18px; line-height: 1.6; font-family: 'Arial', sans-serif;\">\n",
    "    This section handles loading the dataset into the environment for further processing. Using <strong>pandas</strong>, we load the data into a structured dataframe, allowing for easy manipulation, exploration, and analysis throughout the project.\n",
    "</p>\n"
   ]
  },
  {
   "cell_type": "code",
   "execution_count": 2,
   "metadata": {},
   "outputs": [],
   "source": [
    "path = \"../data/\"\n",
    "\n",
    "X_train_ar = pd.read_csv(path + \"X_train_ar_post_FS.csv\")\n",
    "y_train_ar = pd.read_csv(path + \"y_train_ar_post_FS.csv\")\n",
    "X_val_ar = pd.read_csv(path + \"X_val_ar_post_FS.csv\")\n",
    "y_val_ar = pd.read_csv(path + \"y_val_ar_post_FS.csv\")\n",
    "\n",
    "data_test_ar = pd.read_csv(path + \"data_test_ar_post_FS.csv\")\n",
    "\n",
    "data = pd.read_csv(path + \"Agreement_Reached_mapping.csv\")"
   ]
  },
  {
   "cell_type": "code",
   "execution_count": null,
   "metadata": {},
   "outputs": [],
   "source": [
    "mapping_dict = dict(zip(data['Encoded Value'], data['Agreement Reached']))"
   ]
  },
  {
   "cell_type": "markdown",
   "metadata": {},
   "source": [
    "<h2 style=\"text-align: center; color: #4A90E2; font-family: 'Arial', sans-serif; font-size: 36px; text-shadow: 1px 1px #D1D1D1;\">\n",
    "    Model Selection\n",
    "</h2>\n",
    "<hr style=\"border: 1px solid #4A90E2;\">\n",
    "\n",
    "<p style=\"font-size: 18px; line-height: 1.6; font-family: 'Arial', sans-serif;\">\n",
    "    This section focuses on selecting the best-performing models for predicting workers' compensation claims outcomes. Various machine learning algorithms are evaluated based on their accuracy, interpretability, and suitability for the dataset, ensuring an optimal balance between predictive performance and computational efficiency.\n",
    "</p>\n"
   ]
  },
  {
   "cell_type": "markdown",
   "metadata": {},
   "source": [
    "<h3 style=\"color: #4A90E2; font-family: 'Arial', sans-serif; font-size: 28px; text-shadow: 2px 2px #D1D1D1;\">Logistic Regression</h3>"
   ]
  },
  {
   "cell_type": "code",
   "execution_count": null,
   "metadata": {},
   "outputs": [],
   "source": [
    "models_lr, f1_scores_lr, oof_predictions_lr, test_predictions_lr = meta_model_lr(\n",
    "            X_train_ar, y_train_ar, data_test_ar, n_splits_n=5, num_classes_n=y_train_ar['Agreement Reached'].nunique()\n",
    ")"
   ]
  },
  {
   "cell_type": "code",
   "execution_count": null,
   "metadata": {},
   "outputs": [],
   "source": [
    "nn_model_lr, X_nn_train, X_nn_val, y_nn_val, y_nn_train, early_stopping, reduce_lr = neural_network(oof_predictions_lr, y_train_ar)\n",
    "\n",
    "history = nn_model_lr.fit(\n",
    "    X_nn_train, y_nn_train,\n",
    "    validation_data=(X_nn_val, y_nn_val),\n",
    "    epochs=10,\n",
    "    batch_size=64,\n",
    "    callbacks=[early_stopping, reduce_lr],\n",
    "    verbose=1\n",
    ")\n",
    "\n",
    "save_model(nn_model_lr, \"LR_NN_model_ar\")"
   ]
  },
  {
   "cell_type": "code",
   "execution_count": null,
   "metadata": {},
   "outputs": [],
   "source": [
    "plot_training_history(history)"
   ]
  },
  {
   "cell_type": "code",
   "execution_count": null,
   "metadata": {},
   "outputs": [],
   "source": [
    "plot_confusion_matrix(model=nn_model_lr, X_val=X_nn_val, y_val=y_nn_val,\n",
    "    class_mapping=mapping_dict , title=\"Matriz de Confusão - Conjunto de Validação\"\n",
    ")"
   ]
  },
  {
   "cell_type": "code",
   "execution_count": null,
   "metadata": {},
   "outputs": [],
   "source": [
    "save_predictions_to_csv_ar(\n",
    "    model=nn_model_lr,\n",
    "    test_data=test_predictions_lr,\n",
    "    claim_ids=data_test_ar[\"Claim Identifier\"],\n",
    "    output_path=\"../predictions/group_40_KFold_LR_NN_predictions_AR.csv\"\n",
    "    )"
   ]
  },
  {
   "cell_type": "code",
   "execution_count": null,
   "metadata": {},
   "outputs": [],
   "source": [
    "predicitons_data = pd.read_csv('../predictions/group_40_KFold_LR_NN_predictions_AR.csv')\n",
    "values = predicitons_data['Agreement Reached'].value_counts()\n",
    "values"
   ]
  },
  {
   "cell_type": "markdown",
   "metadata": {},
   "source": [
    "<h3 style=\"color: #4A90E2; font-family: 'Arial', sans-serif; font-size: 28px; text-shadow: 2px 2px #D1D1D1;\">Gradient Boost Classifier</h3>"
   ]
  },
  {
   "cell_type": "code",
   "execution_count": null,
   "metadata": {},
   "outputs": [],
   "source": [
    "models_gb, f1_scores_gb, oof_predictions_gb, test_predictions_gb = meta_model_gb(\n",
    "            X_train_ar, y_train_ar, data_test_ar, n_splits_n=5, num_classes_n=y_train_ar['Agreement Reached'].nunique()\n",
    ")"
   ]
  },
  {
   "cell_type": "code",
   "execution_count": null,
   "metadata": {},
   "outputs": [],
   "source": [
    "nn_model_gb, X_nn_train, X_nn_val, y_nn_val, y_nn_train, early_stopping, reduce_lr = neural_network(oof_predictions_gb, y_train_ar)\n",
    "\n",
    "history = nn_model_gb.fit(\n",
    "    X_nn_train, y_nn_train,\n",
    "    validation_data=(X_nn_val, y_nn_val),\n",
    "    epochs=10,\n",
    "    batch_size=64,\n",
    "    callbacks=[early_stopping, reduce_lr],\n",
    "    verbose=1\n",
    ")\n",
    "\n",
    "save_model(nn_model_gb, \"GB_NN_model_ar\")"
   ]
  },
  {
   "cell_type": "code",
   "execution_count": null,
   "metadata": {},
   "outputs": [],
   "source": [
    "plot_training_history(history)"
   ]
  },
  {
   "cell_type": "code",
   "execution_count": null,
   "metadata": {},
   "outputs": [],
   "source": [
    "plot_confusion_matrix(model=nn_model_gb, X_val=X_nn_val, y_val=y_nn_val,\n",
    "    class_mapping=mapping_dict , title=\"Matriz de Confusão - Conjunto de Validação\"\n",
    ")"
   ]
  },
  {
   "cell_type": "code",
   "execution_count": null,
   "metadata": {},
   "outputs": [],
   "source": [
    "save_predictions_to_csv_ar(\n",
    "    model=nn_model_gb,\n",
    "    test_data=test_predictions_gb,\n",
    "    claim_ids=data_test_ar[\"Claim Identifier\"],\n",
    "    output_path=\"../predictions/group_40_KFold_GB_NN_predictions_AR.csv\"\n",
    "    )"
   ]
  },
  {
   "cell_type": "code",
   "execution_count": null,
   "metadata": {},
   "outputs": [],
   "source": [
    "predicitons_data = pd.read_csv('../predictions/group_40_KFold_GB_NN_predictions_AR.csv')\n",
    "values = predicitons_data['Agreement Reached'].value_counts()\n",
    "values"
   ]
  },
  {
   "cell_type": "code",
   "execution_count": 17,
   "metadata": {},
   "outputs": [],
   "source": [
    "data_test_ar = data_test_ar.set_index('Claim Identifier')\n",
    "predictions_data_n = predicitons_data.set_index('Claim Identifier')\n",
    "\n",
    "data_test_ar['Agreement Reached'] = predictions_data_n['Agreement Reached']\n",
    "data_test_ar = data_test_ar.reset_index()\n",
    "\n",
    "data_test_ar.to_csv('../data/data_test_post_PAR.csv', index=False)"
   ]
  }
 ],
 "metadata": {
  "kernelspec": {
   "display_name": "venv",
   "language": "python",
   "name": "python3"
  },
  "language_info": {
   "codemirror_mode": {
    "name": "ipython",
    "version": 3
   },
   "file_extension": ".py",
   "mimetype": "text/x-python",
   "name": "python",
   "nbconvert_exporter": "python",
   "pygments_lexer": "ipython3",
   "version": "3.9.13"
  }
 },
 "nbformat": 4,
 "nbformat_minor": 2
}
